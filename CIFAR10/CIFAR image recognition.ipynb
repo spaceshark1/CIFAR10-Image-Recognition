{
 "cells": [
  {
   "cell_type": "code",
   "execution_count": 8,
   "id": "ea2dbbea",
   "metadata": {},
   "outputs": [
    {
     "name": "stdout",
     "output_type": "stream",
     "text": [
      "(50000, 32, 32, 3)\n",
      "(10000, 32, 32, 3)\n"
     ]
    },
    {
     "data": {
      "image/png": "[encoded data removed]",
      "text/plain": [
       "<Figure size 432x288 with 1 Axes>"
      ]
     },
     "metadata": {},
     "output_type": "display_data"
    },
    {
     "name": "stdout",
     "output_type": "stream",
     "text": [
      "min and max value in image:  30 242\n"
     ]
    },
    {
     "data": {
      "image/png": "[encoded data removed]",
      "text/plain": [
       "<Figure size 432x288 with 1 Axes>"
      ]
     },
     "metadata": {},
     "output_type": "display_data"
    },
    {
     "name": "stdout",
     "output_type": "stream",
     "text": [
      "min and max value in image:  0.11764706 0.9490196\n"
     ]
    }
   ],
   "source": [
    "import tensorflow as tf\n",
    "from tensorflow import keras\n",
    "from tensorflow.keras.datasets import cifar10\n",
    "from tensorflow.keras import backend as K\n",
    "import numpy as np\n",
    "import matplotlib.pyplot as plt\n",
    "%matplotlib inline\n",
    "\n",
    "# helper functions\n",
    "def show_min_max(array, i):\n",
    "  random_image = array[i]\n",
    "  print(\"min and max value in image: \", random_image.min(), random_image.max())\n",
    "\n",
    "\n",
    "def plot_image(array, i, labels):\n",
    "  plt.imshow(np.squeeze(array[i]))\n",
    "  plt.title(label_names[labels[i]])\n",
    "  plt.xticks([])\n",
    "  plt.yticks([])\n",
    "  plt.show()\n",
    "\n",
    "\n",
    "img_rows, img_cols = 32, 32  \n",
    "\n",
    "num_classes = 10 \n",
    "\n",
    "label_names=['airplane', 'automobile', 'bird', 'cat', 'deer', 'dog', 'frog', 'horse', 'ship', 'truck'] \n",
    "\n",
    "(train_images, train_labels), (test_images, test_labels) = cifar10.load_data() \n",
    "(train_images_backup, train_labels_backup), (test_images_backup, test_labels_backup) = cifar10.load_data() \n",
    "\n",
    "train_labels_backup = [item for sublist in train_labels_backup for item in sublist]\n",
    "test_labels_backup = [item for sublist in test_labels_backup for item in sublist]\n",
    "#print(train_labels_backup)\n",
    "\n",
    "print(train_images.shape) \n",
    "print(test_images.shape) \n",
    "\n",
    "train_images = train_images.reshape(train_images.shape[0], img_rows, img_cols, 3)\n",
    "test_images = test_images.reshape(test_images.shape[0], img_rows, img_cols, 3)\n",
    "input_shape = (img_rows, img_cols, 3)\n",
    "\n",
    "plot_image(train_images, 100, train_labels_backup)\n",
    "show_min_max(train_images, 100)\n",
    "\n",
    "train_images = train_images.astype('float32')\n",
    "test_images = test_images.astype('float32')\n",
    "\n",
    "train_images /= 255\n",
    "test_images /= 255\n",
    "\n",
    "plot_image(train_images, 100, train_labels_backup)\n",
    "show_min_max(train_images, 100)\n",
    "\n",
    "train_labels = keras.utils.to_categorical(train_labels, num_classes)\n",
    "test_labels = keras.utils.to_categorical(test_labels, num_classes)"
   ]
  },
  {
   "cell_type": "code",
   "execution_count": 9,
   "id": "df47ca1e",
   "metadata": {},
   "outputs": [
    {
     "name": "stdout",
     "output_type": "stream",
     "text": [
      "Model: \"sequential\"\n",
      "_________________________________________________________________\n",
      " Layer (type)                Output Shape              Param #   \n",
      "=================================================================\n",
      " conv2d (Conv2D)             (None, 30, 30, 32)        896       \n",
      "                                                                 \n",
      " conv2d_1 (Conv2D)           (None, 28, 28, 64)        18496     \n",
      "                                                                 \n",
      " max_pooling2d (MaxPooling2D  (None, 14, 14, 64)       0         \n",
      " )                                                               \n",
      "                                                                 \n",
      " dropout (Dropout)           (None, 14, 14, 64)        0         \n",
      "                                                                 \n",
      " batch_normalization (BatchN  (None, 14, 14, 64)       256       \n",
      " ormalization)                                                   \n",
      "                                                                 \n",
      " conv2d_2 (Conv2D)           (None, 12, 12, 64)        36928     \n",
      "                                                                 \n",
      " max_pooling2d_1 (MaxPooling  (None, 12, 12, 64)       0         \n",
      " 2D)                                                             \n",
      "                                                                 \n",
      " dropout_1 (Dropout)         (None, 12, 12, 64)        0         \n",
      "                                                                 \n",
      " batch_normalization_1 (Batc  (None, 12, 12, 64)       256       \n",
      " hNormalization)                                                 \n",
      "                                                                 \n",
      " conv2d_3 (Conv2D)           (None, 10, 10, 128)       73856     \n",
      "                                                                 \n",
      " conv2d_4 (Conv2D)           (None, 8, 8, 64)          73792     \n",
      "                                                                 \n",
      " max_pooling2d_2 (MaxPooling  (None, 8, 8, 64)         0         \n",
      " 2D)                                                             \n",
      "                                                                 \n",
      " dropout_2 (Dropout)         (None, 8, 8, 64)          0         \n",
      "                                                                 \n",
      " batch_normalization_2 (Batc  (None, 8, 8, 64)         256       \n",
      " hNormalization)                                                 \n",
      "                                                                 \n",
      " flatten (Flatten)           (None, 4096)              0         \n",
      "                                                                 \n",
      " dense (Dense)               (None, 128)               524416    \n",
      "                                                                 \n",
      " dense_1 (Dense)             (None, 10)                1290      \n",
      "                                                                 \n",
      "=================================================================\n",
      "Total params: 730,442\n",
      "Trainable params: 730,058\n",
      "Non-trainable params: 384\n",
      "_________________________________________________________________\n",
      "Epoch 1/15\n",
      "782/782 [==============================] - 98s 125ms/step - loss: 1.5749 - accuracy: 0.4433 - val_loss: 1.3605 - val_accuracy: 0.5065\n",
      "Epoch 2/15\n",
      "782/782 [==============================] - 96s 123ms/step - loss: 1.0759 - accuracy: 0.6170 - val_loss: 1.0194 - val_accuracy: 0.6326\n",
      "Epoch 3/15\n",
      "782/782 [==============================] - 99s 127ms/step - loss: 0.8876 - accuracy: 0.6862 - val_loss: 0.8276 - val_accuracy: 0.7068\n",
      "Epoch 4/15\n",
      "782/782 [==============================] - 106s 136ms/step - loss: 0.7828 - accuracy: 0.7224 - val_loss: 0.8058 - val_accuracy: 0.7188\n",
      "Epoch 5/15\n",
      "782/782 [==============================] - 108s 138ms/step - loss: 0.7080 - accuracy: 0.7486 - val_loss: 0.7593 - val_accuracy: 0.7415\n",
      "Epoch 6/15\n",
      "782/782 [==============================] - 102s 130ms/step - loss: 0.6568 - accuracy: 0.7684 - val_loss: 0.8620 - val_accuracy: 0.7154\n",
      "Epoch 7/15\n",
      "782/782 [==============================] - 102s 130ms/step - loss: 0.6066 - accuracy: 0.7844 - val_loss: 0.8134 - val_accuracy: 0.7237\n",
      "Epoch 8/15\n",
      "782/782 [==============================] - 108s 138ms/step - loss: 0.5710 - accuracy: 0.7983 - val_loss: 0.7680 - val_accuracy: 0.7424\n",
      "Epoch 9/15\n",
      "782/782 [==============================] - 110s 141ms/step - loss: 0.5285 - accuracy: 0.8136 - val_loss: 0.7341 - val_accuracy: 0.7565\n",
      "Epoch 10/15\n",
      "782/782 [==============================] - 108s 139ms/step - loss: 0.4947 - accuracy: 0.8257 - val_loss: 0.7093 - val_accuracy: 0.7694\n",
      "Epoch 11/15\n",
      "782/782 [==============================] - 108s 138ms/step - loss: 0.4676 - accuracy: 0.8344 - val_loss: 0.7389 - val_accuracy: 0.7635\n",
      "Epoch 12/15\n",
      "782/782 [==============================] - 108s 138ms/step - loss: 0.4365 - accuracy: 0.8451 - val_loss: 0.7226 - val_accuracy: 0.7646\n",
      "Epoch 13/15\n",
      "782/782 [==============================] - 108s 138ms/step - loss: 0.4195 - accuracy: 0.8505 - val_loss: 0.6556 - val_accuracy: 0.7874\n",
      "Epoch 14/15\n",
      "782/782 [==============================] - 108s 138ms/step - loss: 0.3961 - accuracy: 0.8591 - val_loss: 0.6982 - val_accuracy: 0.7763\n",
      "Epoch 15/15\n",
      "782/782 [==============================] - 97s 124ms/step - loss: 0.3693 - accuracy: 0.8668 - val_loss: 0.7194 - val_accuracy: 0.7762\n",
      "Test accuracy: 0.776199996471405\n"
     ]
    }
   ],
   "source": [
    "from tensorflow.keras.models import Sequential \n",
    "from tensorflow.keras.layers import Dense, Dropout, Flatten, Conv2D, MaxPooling2D, BatchNormalization \n",
    "\n",
    "epochs = 15\n",
    "batch_size = 64\n",
    "model = Sequential()\n",
    "\n",
    "model.add(Conv2D(filters=32, kernel_size=(3, 3), activation='relu', input_shape=input_shape)) \n",
    "model.add(Conv2D(filters=64, kernel_size=(3, 3), activation='relu', input_shape=input_shape)) \n",
    "model.add(MaxPooling2D(pool_size=(2, 2))) \n",
    "model.add(Dropout(rate=0.2)) \n",
    "model.add(BatchNormalization()) \n",
    "\n",
    "model.add(Conv2D(filters=64, kernel_size=(3, 3), activation='relu')) \n",
    "model.add(MaxPooling2D(pool_size=(1, 1))) \n",
    "model.add(Dropout(rate=0.3)) \n",
    "model.add(BatchNormalization()) \n",
    "\n",
    "model.add(Conv2D(filters=128, kernel_size=(3, 3),activation='relu')) \n",
    "model.add(Conv2D(filters=64, kernel_size=(3, 3), activation='relu')) \n",
    "model.add(MaxPooling2D(pool_size=(1, 1))) \n",
    "model.add(Dropout(rate=0.3)) \n",
    "model.add(BatchNormalization()) \n",
    "\n",
    "model.add(Flatten()) \n",
    "model.add(Dense(units=128, activation='relu')) \n",
    "model.add(Dense(units=num_classes, activation='softmax')) \n",
    "\n",
    "model.summary()\n",
    "model.compile(loss=keras.losses.categorical_crossentropy, optimizer='adam', metrics=['accuracy']) \n",
    "model.fit(train_images, train_labels, batch_size=batch_size, epochs=epochs, validation_data=(test_images, test_labels), shuffle=True) \n",
    "scores = model.evaluate(test_images, test_labels,verbose=0) \n",
    "print('Test accuracy:', scores[1])  "
   ]
  },
  {
   "cell_type": "code",
   "execution_count": 10,
   "id": "f50eebf0",
   "metadata": {},
   "outputs": [],
   "source": [
    "model.save(\"CIFAR10_imagerecognition.h5\")"
   ]
  },
  {
   "cell_type": "code",
   "execution_count": null,
   "id": "d6b291b3",
   "metadata": {},
   "outputs": [],
   "source": []
  }
 ],
 "metadata": {
  "kernelspec": {
   "display_name": "Python 3 (ipykernel)",
   "language": "python",
   "name": "python3"
  },
  "language_info": {
   "codemirror_mode": {
    "name": "ipython",
    "version": 3
   },
   "file_extension": ".py",
   "mimetype": "text/x-python",
   "name": "python",
   "nbconvert_exporter": "python",
   "pygments_lexer": "ipython3",
   "version": "3.9.10"
  }
 },
 "nbformat": 4,
 "nbformat_minor": 5
}
